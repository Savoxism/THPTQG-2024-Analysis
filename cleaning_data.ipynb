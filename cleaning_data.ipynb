{
 "cells": [
  {
   "cell_type": "code",
   "execution_count": 7,
   "metadata": {},
   "outputs": [
    {
     "data": {
      "text/html": [
       "<div>\n",
       "<style scoped>\n",
       "    .dataframe tbody tr th:only-of-type {\n",
       "        vertical-align: middle;\n",
       "    }\n",
       "\n",
       "    .dataframe tbody tr th {\n",
       "        vertical-align: top;\n",
       "    }\n",
       "\n",
       "    .dataframe thead th {\n",
       "        text-align: right;\n",
       "    }\n",
       "</style>\n",
       "<table border=\"1\" class=\"dataframe\">\n",
       "  <thead>\n",
       "    <tr style=\"text-align: right;\">\n",
       "      <th></th>\n",
       "      <th>sbd</th>\n",
       "      <th>toan</th>\n",
       "      <th>ngu_van</th>\n",
       "      <th>ngoai_ngu</th>\n",
       "      <th>vat_li</th>\n",
       "      <th>hoa_hoc</th>\n",
       "      <th>sinh_hoc</th>\n",
       "      <th>lich_su</th>\n",
       "      <th>dia_li</th>\n",
       "      <th>gdcd</th>\n",
       "      <th>ma_ngoai_ngu</th>\n",
       "    </tr>\n",
       "  </thead>\n",
       "  <tbody>\n",
       "    <tr>\n",
       "      <th>0</th>\n",
       "      <td>1000001</td>\n",
       "      <td>8.4</td>\n",
       "      <td>6.75</td>\n",
       "      <td>8.0</td>\n",
       "      <td>6.0</td>\n",
       "      <td>5.25</td>\n",
       "      <td>5.0</td>\n",
       "      <td>NaN</td>\n",
       "      <td>NaN</td>\n",
       "      <td>NaN</td>\n",
       "      <td>N1</td>\n",
       "    </tr>\n",
       "    <tr>\n",
       "      <th>1</th>\n",
       "      <td>1000002</td>\n",
       "      <td>8.6</td>\n",
       "      <td>8.50</td>\n",
       "      <td>7.2</td>\n",
       "      <td>NaN</td>\n",
       "      <td>NaN</td>\n",
       "      <td>NaN</td>\n",
       "      <td>7.25</td>\n",
       "      <td>6.00</td>\n",
       "      <td>8.00</td>\n",
       "      <td>N1</td>\n",
       "    </tr>\n",
       "    <tr>\n",
       "      <th>2</th>\n",
       "      <td>1000003</td>\n",
       "      <td>8.2</td>\n",
       "      <td>8.75</td>\n",
       "      <td>8.2</td>\n",
       "      <td>NaN</td>\n",
       "      <td>NaN</td>\n",
       "      <td>NaN</td>\n",
       "      <td>7.25</td>\n",
       "      <td>7.25</td>\n",
       "      <td>8.75</td>\n",
       "      <td>N1</td>\n",
       "    </tr>\n",
       "    <tr>\n",
       "      <th>3</th>\n",
       "      <td>1000004</td>\n",
       "      <td>4.8</td>\n",
       "      <td>8.50</td>\n",
       "      <td>7.4</td>\n",
       "      <td>NaN</td>\n",
       "      <td>NaN</td>\n",
       "      <td>NaN</td>\n",
       "      <td>7.00</td>\n",
       "      <td>6.00</td>\n",
       "      <td>7.50</td>\n",
       "      <td>N1</td>\n",
       "    </tr>\n",
       "    <tr>\n",
       "      <th>4</th>\n",
       "      <td>1000005</td>\n",
       "      <td>8.6</td>\n",
       "      <td>9.00</td>\n",
       "      <td>7.8</td>\n",
       "      <td>NaN</td>\n",
       "      <td>NaN</td>\n",
       "      <td>NaN</td>\n",
       "      <td>9.00</td>\n",
       "      <td>8.75</td>\n",
       "      <td>8.50</td>\n",
       "      <td>N1</td>\n",
       "    </tr>\n",
       "  </tbody>\n",
       "</table>\n",
       "</div>"
      ],
      "text/plain": [
       "       sbd  toan  ngu_van  ngoai_ngu  vat_li  hoa_hoc  sinh_hoc  lich_su  \\\n",
       "0  1000001   8.4     6.75        8.0     6.0     5.25       5.0      NaN   \n",
       "1  1000002   8.6     8.50        7.2     NaN      NaN       NaN     7.25   \n",
       "2  1000003   8.2     8.75        8.2     NaN      NaN       NaN     7.25   \n",
       "3  1000004   4.8     8.50        7.4     NaN      NaN       NaN     7.00   \n",
       "4  1000005   8.6     9.00        7.8     NaN      NaN       NaN     9.00   \n",
       "\n",
       "   dia_li  gdcd ma_ngoai_ngu  \n",
       "0     NaN   NaN           N1  \n",
       "1    6.00  8.00           N1  \n",
       "2    7.25  8.75           N1  \n",
       "3    6.00  7.50           N1  \n",
       "4    8.75  8.50           N1  "
      ]
     },
     "execution_count": 7,
     "metadata": {},
     "output_type": "execute_result"
    }
   ],
   "source": [
    "import pandas as pd\n",
    "import random\n",
    "df = pd.read_csv('diem_thi_thpt_2024.csv', sep=',')\n",
    "\n",
    "df.head()"
   ]
  },
  {
   "cell_type": "code",
   "execution_count": 8,
   "metadata": {},
   "outputs": [],
   "source": [
    "#Cleaning the data\n",
    "def vietnamese_to_english(column_name):\n",
    "    translations = {\n",
    "        'sbd': 'student_id',\n",
    "        'toan': 'math',\n",
    "        'ngu_van': 'literature',\n",
    "        'ngoai_ngu': 'english',\n",
    "        'vat_li': 'physics',\n",
    "        'hoa_hoc': 'chemistry',\n",
    "        'sinh_hoc': 'biology',\n",
    "        'lich_su': 'history',\n",
    "        'dia_li': 'geography',\n",
    "        'gdcd': 'civic_education',\n",
    "        'ma_ngoai_ngu': 'foreign_language_code'\n",
    "    }\n",
    "    return translations.get(column_name, column_name)\n",
    "\n",
    "df.columns = [vietnamese_to_english(col) for col in df.columns]"
   ]
  },
  {
   "cell_type": "code",
   "execution_count": 9,
   "metadata": {},
   "outputs": [],
   "source": [
    "# Function to check if a student is in social science\n",
    "def is_social_science(row):\n",
    "    return pd.notna(row['civic_education']) and pd.notna(row['history']) and pd.notna(row['geography'])\n",
    "\n",
    "# Function to check if a student is in natural sciences\n",
    "def is_natural_science(row):\n",
    "    return pd.notna(row['chemistry']) and pd.notna(row['physics']) and pd.notna(row['biology'])\n",
    "\n",
    "social_science = df[df.apply(is_social_science, axis=1)].copy()\n",
    "natural_science = df[df.apply(is_natural_science, axis=1)].copy()"
   ]
  },
  {
   "cell_type": "code",
   "execution_count": 4,
   "metadata": {},
   "outputs": [],
   "source": [
    "# Define subject columns for each category\n",
    "common_subjects = ['student_id', 'math', 'literature', 'english']\n",
    "social_subjects = ['history', 'geography', 'civic_education']\n",
    "science_subjects = ['physics', 'chemistry', 'biology']\n",
    "\n",
    "social_science = social_science[common_subjects + social_subjects]\n",
    "natural_science = natural_science[common_subjects + science_subjects]"
   ]
  },
  {
   "cell_type": "code",
   "execution_count": 10,
   "metadata": {},
   "outputs": [
    {
     "data": {
      "text/plain": [
       "student_id                    0\n",
       "math                       1849\n",
       "literature                   84\n",
       "english                    8030\n",
       "physics                  583106\n",
       "chemistry                583106\n",
       "biology                  583106\n",
       "history                       0\n",
       "geography                     0\n",
       "civic_education               0\n",
       "foreign_language_code      8030\n",
       "dtype: int64"
      ]
     },
     "execution_count": 10,
     "metadata": {},
     "output_type": "execute_result"
    }
   ],
   "source": [
    "social_science.isna().sum()"
   ]
  },
  {
   "cell_type": "code",
   "execution_count": 11,
   "metadata": {},
   "outputs": [
    {
     "data": {
      "text/plain": [
       "student_id                    0\n",
       "math                          7\n",
       "literature                 2714\n",
       "english                   12178\n",
       "physics                       0\n",
       "chemistry                     0\n",
       "biology                       0\n",
       "history                  339787\n",
       "geography                339787\n",
       "civic_education          339787\n",
       "foreign_language_code     12178\n",
       "dtype: int64"
      ]
     },
     "execution_count": 11,
     "metadata": {},
     "output_type": "execute_result"
    }
   ],
   "source": [
    "natural_science.isna().sum()"
   ]
  },
  {
   "cell_type": "code",
   "execution_count": 12,
   "metadata": {},
   "outputs": [],
   "source": [
    "# Handle English missing values\n",
    "social_subjects = ['history', 'geography', 'civic_education']\n",
    "science_subjects = ['physics', 'chemistry', 'biology']\n",
    "\n",
    "def handle_english(df):\n",
    "    possible_values = [8.4, 8.6, 8.8, 9.0, 9.2, 9.4]\n",
    "    df.loc[df['english'].isna(), 'english'] = df['english'].apply(lambda x: random.choice(possible_values) if pd.isna(x) else x)\n",
    "    return df\n",
    "\n",
    "social_science = handle_english(social_science)\n",
    "natural_science = handle_english(natural_science)"
   ]
  },
  {
   "cell_type": "code",
   "execution_count": 13,
   "metadata": {},
   "outputs": [],
   "source": [
    "# Fill missing values with 7.00 (Pure Estimate)\n",
    "social_science.fillna(7.00, inplace=True)\n",
    "natural_science.fillna(7.00, inplace=True)"
   ]
  },
  {
   "cell_type": "code",
   "execution_count": 14,
   "metadata": {},
   "outputs": [
    {
     "name": "stdout",
     "output_type": "stream",
     "text": [
      "\n",
      "Data has been saved to 'social_studies_students.csv' and 'natural_sciences_students.csv'\n"
     ]
    }
   ],
   "source": [
    "# Round all scores to 2 decimal places\n",
    "score_columns = ['math', 'literature', 'english'] + social_subjects + science_subjects\n",
    "for df in [social_science, natural_science]:\n",
    "    for col in score_columns:\n",
    "        if col in df.columns:\n",
    "            df[col] = df[col].round(2)\n",
    "\n",
    "# Save the data            \n",
    "social_science.to_csv('social_science_students.csv', index=False)\n",
    "natural_science.to_csv('natural_science_students.csv', index=False)\n",
    "print(\"\\nData has been saved to 'social_studies_students.csv' and 'natural_sciences_students.csv'\")"
   ]
  }
 ],
 "metadata": {
  "kernelspec": {
   "display_name": "Python 3",
   "language": "python",
   "name": "python3"
  },
  "language_info": {
   "codemirror_mode": {
    "name": "ipython",
    "version": 3
   },
   "file_extension": ".py",
   "mimetype": "text/x-python",
   "name": "python",
   "nbconvert_exporter": "python",
   "pygments_lexer": "ipython3",
   "version": "3.12.3"
  }
 },
 "nbformat": 4,
 "nbformat_minor": 2
}
