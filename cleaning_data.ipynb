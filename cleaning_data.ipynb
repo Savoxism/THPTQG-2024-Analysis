{
 "cells": [
  {
   "cell_type": "code",
   "execution_count": null,
   "metadata": {},
   "outputs": [],
   "source": [
    "import pandas as pd\n",
    "import random\n",
    "df = pd.read_csv('datasets/diem_thi_thpt_2024.csv', sep=',')\n",
    "df.head()"
   ]
  },
  {
   "cell_type": "code",
   "execution_count": null,
   "metadata": {},
   "outputs": [],
   "source": [
    "#Cleaning the data\n",
    "def vietnamese_to_english(column_name):\n",
    "    translations = {\n",
    "        'sbd': 'student_id',\n",
    "        'toan': 'math',\n",
    "        'ngu_van': 'literature',\n",
    "        'ngoai_ngu': 'english',\n",
    "        'vat_li': 'physics',\n",
    "        'hoa_hoc': 'chemistry',\n",
    "        'sinh_hoc': 'biology',\n",
    "        'lich_su': 'history',\n",
    "        'dia_li': 'geography',\n",
    "        'gdcd': 'civic_education',\n",
    "        'ma_ngoai_ngu': 'foreign_language_code'\n",
    "    }\n",
    "    return translations.get(column_name, column_name)\n",
    "\n",
    "df.columns = [vietnamese_to_english(col) for col in df.columns]"
   ]
  },
  {
   "cell_type": "code",
   "execution_count": null,
   "metadata": {},
   "outputs": [],
   "source": [
    "# Function to check if a student is in social science\n",
    "def is_social_science(row):\n",
    "    return pd.notna(row['civic_education']) and pd.notna(row['history']) and pd.notna(row['geography'])\n",
    "\n",
    "# Function to check if a student is in natural science\n",
    "def is_natural_science(row):\n",
    "    return pd.notna(row['chemistry']) and pd.notna(row['physics']) and pd.notna(row['biology'])\n",
    "\n",
    "social_science = df[df.apply(is_social_science, axis=1)].copy()\n",
    "natural_science = df[df.apply(is_natural_science, axis=1)].copy()"
   ]
  },
  {
   "cell_type": "code",
   "execution_count": null,
   "metadata": {},
   "outputs": [],
   "source": [
    "# Define subject columns for each category\n",
    "common_subjects = ['student_id', 'math', 'literature', 'english']\n",
    "social_subjects = ['history', 'geography', 'civic_education']\n",
    "science_subjects = ['physics', 'chemistry', 'biology']\n",
    "\n",
    "social_science = social_science[common_subjects + social_subjects]\n",
    "natural_science = natural_science[common_subjects + science_subjects]"
   ]
  },
  {
   "cell_type": "code",
   "execution_count": null,
   "metadata": {},
   "outputs": [],
   "source": [
    "social_science.isna().sum()"
   ]
  },
  {
   "cell_type": "code",
   "execution_count": null,
   "metadata": {},
   "outputs": [],
   "source": [
    "natural_science.isna().sum()"
   ]
  },
  {
   "cell_type": "code",
   "execution_count": null,
   "metadata": {},
   "outputs": [],
   "source": [
    "# Handle English missing values (Due to IELTS Scores Converstion)\n",
    "social_subjects = ['history', 'geography', 'civic_education']\n",
    "science_subjects = ['physics', 'chemistry', 'biology']\n",
    "\n",
    "def handle_english(df):\n",
    "    possible_values = [6.4, 6.6, 6.8, 7.0, 7.2, 7.4, 7.6, 7.8, 8.0, 8.2, 8.4, 8.6, 8.8, 9.0, 9.2, 9.4]\n",
    "    df.loc[df['english'].isna(), 'english'] = df['english'].apply(lambda x: random.choice(possible_values) if pd.isna(x) else x)\n",
    "    return df\n",
    "\n",
    "social_science = handle_english(social_science)\n",
    "natural_science = handle_english(natural_science)"
   ]
  },
  {
   "cell_type": "code",
   "execution_count": null,
   "metadata": {},
   "outputs": [],
   "source": [
    "# Fill missing values with 7.00 (Pure Estimate)\n",
    "social_science.fillna(7.00, inplace=True)\n",
    "natural_science.fillna(7.00, inplace=True)"
   ]
  },
  {
   "cell_type": "code",
   "execution_count": null,
   "metadata": {},
   "outputs": [],
   "source": [
    "# Round all scores to 2 decimal places\n",
    "score_columns = ['math', 'literature', 'english'] + social_subjects + science_subjects\n",
    "for df in [social_science, natural_science]:\n",
    "    for col in score_columns:\n",
    "        if col in df.columns:\n",
    "            df[col] = df[col].round(2)\n",
    "\n",
    "# Save the data            \n",
    "social_science.to_csv('datasets/social_science_students.csv', index=False)\n",
    "natural_science.to_csv('datasets/natural_science_students.csv', index=False)\n",
    "print(\"\\nData has been saved to 'datasets/social_science_students.csv' and 'datasets/natural_science_students.csv'\")"
   ]
  },
  {
   "cell_type": "markdown",
   "metadata": {},
   "source": [
    "# That's all for the setup, let's analyze now!"
   ]
  }
 ],
 "metadata": {
  "kernelspec": {
   "display_name": "Python 3",
   "language": "python",
   "name": "python3"
  },
  "language_info": {
   "codemirror_mode": {
    "name": "ipython",
    "version": 3
   },
   "file_extension": ".py",
   "mimetype": "text/x-python",
   "name": "python",
   "nbconvert_exporter": "python",
   "pygments_lexer": "ipython3",
   "version": "3.12.3"
  }
 },
 "nbformat": 4,
 "nbformat_minor": 2
}
